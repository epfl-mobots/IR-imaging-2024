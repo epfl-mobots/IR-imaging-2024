{
 "cells": [
  {
   "cell_type": "markdown",
   "metadata": {},
   "source": [
    "# This is to choose N random files from the barmak dataset in order to test the thresholding pipeline"
   ]
  },
  {
   "cell_type": "code",
   "execution_count": 11,
   "metadata": {},
   "outputs": [
    {
     "name": "stdout",
     "output_type": "stream",
     "text": [
      "%%%%%%%%%%%%%%%%%%%%%%%%%{ Details Of Transfer }%%%%%%%%%%%%%%%%%%%%%%%%%\n",
      "\n",
      "\n",
      "List of Files Moved to /Users/fabianprofeta/Desktop/PDS-IR-imaging/IR-imaging-2024/imgs_samples :-\n",
      "1} vid_hive4_rpi2_201205-010001-utc.jpg\n",
      "2} vid_hive4_rpi2_201204-235001-utc.jpg\n",
      "3} vid_hive4_rpi2_201203-013001-utc.jpg\n",
      "4} vid_hive4_rpi2_201206-023001-utc.jpg\n",
      "5} vid_hive4_rpi2_201203-035001-utc.jpg\n",
      "6} vid_hive4_rpi2_201203-144001-utc.jpg\n",
      "7} vid_hive4_rpi2_201205-105001-utc.jpg\n",
      "8} vid_hive4_rpi2_201206-033001-utc.jpg\n",
      "9} vid_hive4_rpi2_201201-191001-utc.jpg\n",
      "10} vid_hive4_rpi2_201202-120001-utc.jpg\n",
      "11} vid_hive4_rpi2_201206-121001-utc.jpg\n",
      "12} vid_hive4_rpi2_201202-172001-utc.jpg\n",
      "13} vid_hive4_rpi2_201206-014001-utc.jpg\n",
      "14} vid_hive4_rpi2_201202-112001-utc.jpg\n",
      "15} vid_hive4_rpi2_201203-025001-utc.jpg\n",
      "16} vid_hive4_rpi2_201204-102001-utc.jpg\n",
      "17} vid_hive4_rpi2_201204-203001-utc.jpg\n",
      "18} vid_hive4_rpi2_201204-175001-utc.jpg\n",
      "19} vid_hive4_rpi2_201205-174001-utc.jpg\n",
      "20} vid_hive4_rpi2_201206-175001-utc.jpg\n",
      "21} vid_hive4_rpi2_201203-211001-utc.jpg\n",
      "22} vid_hive4_rpi2_201206-095001-utc.jpg\n",
      "23} vid_hive4_rpi2_201202-212001-utc.jpg\n",
      "24} vid_hive4_rpi2_201203-044001-utc.jpg\n",
      "25} vid_hive4_rpi2_201201-081001-utc.jpg\n",
      "26} vid_hive4_rpi2_201203-032001-utc.jpg\n",
      "27} vid_hive4_rpi2_201207-210001-utc.jpg\n",
      "28} vid_hive4_rpi2_201201-110001-utc.jpg\n",
      "29} vid_hive4_rpi2_201206-184001-utc.jpg\n",
      "30} vid_hive4_rpi2_201204-062001-utc.jpg\n",
      "31} vid_hive4_rpi2_201201-033001-utc.jpg\n",
      "32} vid_hive4_rpi2_201204-174001-utc.jpg\n",
      "33} vid_hive4_rpi2_201201-155001-utc.jpg\n",
      "34} vid_hive4_rpi2_201205-213001-utc.jpg\n",
      "35} vid_hive4_rpi2_201206-215001-utc.jpg\n",
      "36} vid_hive4_rpi2_201206-094001-utc.jpg\n",
      "37} vid_hive4_rpi2_201207-211001-utc.jpg\n",
      "38} vid_hive4_rpi2_201203-131001-utc.jpg\n",
      "39} vid_hive4_rpi2_201207-215001-utc.jpg\n",
      "40} vid_hive4_rpi2_201207-012001-utc.jpg\n",
      "41} vid_hive4_rpi2_201207-003001-utc.jpg\n",
      "42} vid_hive4_rpi2_201204-231001-utc.jpg\n",
      "43} vid_hive4_rpi2_201201-205001-utc.jpg\n",
      "44} vid_hive4_rpi2_201205-171001-utc.jpg\n",
      "45} vid_hive4_rpi2_201207-030001-utc.jpg\n",
      "46} vid_hive4_rpi2_201202-021001-utc.jpg\n",
      "47} vid_hive4_rpi2_201207-051001-utc.jpg\n",
      "48} vid_hive4_rpi2_201205-125001-utc.jpg\n",
      "49} vid_hive4_rpi2_201203-003001-utc.jpg\n",
      "50} vid_hive4_rpi2_201202-024001-utc.jpg\n",
      "\n",
      "\n",
      "$$$$$$$$$$$$$$$$$$$$$$$$$$$$$$$$$[ Files Moved Successfully ]$$$$$$$$$$$$$$$$$$$$$$$$$$$$$$$$$\n"
     ]
    }
   ],
   "source": [
    "# from https://stackoverflow.com/a/52586317\n",
    "\n",
    "import os, random, shutil\n",
    "\n",
    "#Prompting user to enter number of files to select randomly along with directory\n",
    "source = \"/Users/fabianprofeta/Desktop/PDS-IR-imaging/IR-imaging-2024/barmak/5_cluster_contour_ilastik/observation/imgs10\"\n",
    "dest = \"/Users/fabianprofeta/Desktop/PDS-IR-imaging/IR-imaging-2024/thresholding/imgs_samples\"\n",
    "no_of_files = 50\n",
    "\n",
    "print(\"%\"*25+\"{ Details Of Transfer }\"+\"%\"*25)\n",
    "print(\"\\n\\nList of Files Moved to %s :-\"%(dest))\n",
    "\n",
    "#Using for loop to randomly choose multiple files\n",
    "for i in range(no_of_files):\n",
    "    #Variable random_file stores the name of the random file chosen\n",
    "    random_file=random.choice(os.listdir(source))\n",
    "    print(\"%d} %s\"%(i+1,random_file))\n",
    "    source_file=source + \"/\" + random_file \n",
    "    dest_file=dest\n",
    "    #\"shutil.move\" function moves file from one directory to another\n",
    "    shutil.move(source_file,dest_file)\n",
    "    os.rename(dest_file+\"/\"+random_file, dest_file+\"/img\"+str(i)+\".jpg\")\n",
    "\n",
    "print(\"\\n\\n\"+\"$\"*33+\"[ Files Moved Successfully ]\"+\"$\"*33)"
   ]
  },
  {
   "cell_type": "markdown",
   "metadata": {},
   "source": [
    "# -----------------------------------------------------------------------------"
   ]
  },
  {
   "cell_type": "markdown",
   "metadata": {},
   "source": [
    "# We test here the pipeline on N random files"
   ]
  },
  {
   "cell_type": "code",
   "execution_count": 2,
   "metadata": {},
   "outputs": [],
   "source": [
    "import cv2\n",
    "import numpy as np\n",
    "import matplotlib.pyplot as plt\n",
    "from skimage.morphology import remove_small_holes, remove_small_objects, disk, opening, closing\n",
    "import glob"
   ]
  },
  {
   "cell_type": "code",
   "execution_count": 5,
   "metadata": {},
   "outputs": [],
   "source": [
    "folder_in = 'imgs_samples/'\n",
    "images = glob.glob(folder_in + '*.jpg')\n",
    "imgs = []\n",
    "\n",
    "for image in images:\n",
    "    img = cv2.imread(image, cv2.IMREAD_GRAYSCALE)\n",
    "    imgs.append(img)\n",
    "    # fig, ax = plt.subplots(1, 1, figsize=(7, 7))\n",
    "    # ax.imshow(img, cmap='gray')\n",
    "    # ax.title.set_text(image.replace(folder_in, ''))\n",
    "    # ax.axis('off')\n",
    "    # plt.show()"
   ]
  },
  {
   "cell_type": "code",
   "execution_count": 17,
   "metadata": {},
   "outputs": [],
   "source": [
    "thresholds= np.ones([len(imgs)]) * 80\n",
    "imgs_tmp = []\n",
    "\n",
    "for img, threshold in zip(imgs, thresholds):\n",
    "    img_tmp = cv2.equalizeHist(img) #histogram equalization\n",
    "    img_tmp = cv2.GaussianBlur(img, (7, 7), 0) #blur cause it never caused any harm\n",
    "    _, img_tmp = cv2.threshold(img_tmp, threshold, 255, cv2.THRESH_BINARY) #thresholding\n",
    "    imgs_tmp.append(img_tmp)"
   ]
  },
  {
   "cell_type": "code",
   "execution_count": 18,
   "metadata": {},
   "outputs": [
    {
     "name": "stderr",
     "output_type": "stream",
     "text": [
      "/var/folders/81/88qz8hc518d6msz681nh39mm0000gn/T/ipykernel_37431/507806763.py:6: UserWarning: Any labeled images will be returned as a boolean array. Did you mean to use a boolean array?\n",
      "  img_tmp1000 = remove_small_holes(img_tmp1000, area_threshold=1000) #remove small holes\n"
     ]
    }
   ],
   "source": [
    "imgs_tmp1000_oc = []\n",
    "n = 0\n",
    "for img_tmp in imgs_tmp:\n",
    "    # some morphological operations (this take lil bit of time)\n",
    "    img_tmp1000 = remove_small_objects(img_tmp, min_size=1000) #remove small objects\n",
    "    img_tmp1000 = remove_small_holes(img_tmp1000, area_threshold=1000) #remove small holes\n",
    "    img_tmp1000_oc = closing(opening(img_tmp1000, disk(3)), disk(3)) #open then close the mask (small disk cause takes time)\n",
    "    imgs_tmp1000_oc.append(img_tmp1000_oc)\n",
    "    # to save time in the future, save the masks\n",
    "    cv2.imwrite('imgs_samples_mask/mask'+str(n)+'.jpg', img_tmp1000_oc * 255)\n",
    "    n += 1"
   ]
  },
  {
   "cell_type": "code",
   "execution_count": 3,
   "metadata": {},
   "outputs": [],
   "source": [
    "# we load mask that were preprocessed to save time on morphological operations if we dont want to redo them\n",
    "imgs_tmp1000_oc = []\n",
    "no_of_file = 50\n",
    "for n in range(no_of_file):\n",
    "    img_tmp1000_oc = cv2.imread('imgs_samples_mask/mask'+str(n)+'.jpg', cv2.IMREAD_GRAYSCALE)\n",
    "    imgs_tmp1000_oc.append(img_tmp1000_oc)"
   ]
  },
  {
   "cell_type": "code",
   "execution_count": 8,
   "metadata": {},
   "outputs": [],
   "source": [
    "imgs_contour = []\n",
    "\n",
    "# now we can find the contours\n",
    "for img_tmp1000_oc, img in zip(imgs_tmp1000_oc, imgs):\n",
    "    img_contour = (~img_tmp1000_oc).astype(np.uint8) #convert to uint8 because findContours only accepts uint8\n",
    "    contours, _ = cv2.findContours(img_contour, cv2.RETR_EXTERNAL, cv2.CHAIN_APPROX_SIMPLE) #find contours\n",
    "    contour = max(contours, key=cv2.contourArea) #get the biggest contour\n",
    "    img_contour = cv2.cvtColor(img_contour, cv2.COLOR_GRAY2BGR) #convert to BGR because drawContours only accepts BGR\n",
    "    cv2.drawContours(img, contour, -1, (255, 255, 255), 20) #draw the biggest contour\n",
    "    imgs_contour.append(img_contour)"
   ]
  },
  {
   "cell_type": "code",
   "execution_count": 9,
   "metadata": {},
   "outputs": [],
   "source": [
    "# save the contours\n",
    "n = 0\n",
    "for img in imgs:\n",
    "    cv2.imwrite('imgs_samples_contour/contour' + str(n) + '.jpg', img)\n",
    "    n += 1"
   ]
  },
  {
   "cell_type": "code",
   "execution_count": null,
   "metadata": {},
   "outputs": [],
   "source": []
  }
 ],
 "metadata": {
  "kernelspec": {
   "display_name": "bee",
   "language": "python",
   "name": "python3"
  },
  "language_info": {
   "codemirror_mode": {
    "name": "ipython",
    "version": 3
   },
   "file_extension": ".py",
   "mimetype": "text/x-python",
   "name": "python",
   "nbconvert_exporter": "python",
   "pygments_lexer": "ipython3",
   "version": "3.9.12"
  }
 },
 "nbformat": 4,
 "nbformat_minor": 2
}
