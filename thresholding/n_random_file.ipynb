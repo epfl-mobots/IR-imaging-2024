{
 "cells": [
  {
   "cell_type": "markdown",
   "metadata": {},
   "source": [
    "# This is to choose N random files from the barmak dataset in order to test the thresholding pipeline"
   ]
  },
  {
   "cell_type": "code",
   "execution_count": 11,
   "metadata": {},
   "outputs": [
    {
     "name": "stdout",
     "output_type": "stream",
     "text": [
      "%%%%%%%%%%%%%%%%%%%%%%%%%{ Details Of Transfer }%%%%%%%%%%%%%%%%%%%%%%%%%\n",
      "\n",
      "\n",
      "List of Files Moved to /Users/fabianprofeta/Desktop/PDS-IR-imaging/IR-imaging-2024/imgs_samples :-\n",
      "1} vid_hive4_rpi2_201205-010001-utc.jpg\n",
      "2} vid_hive4_rpi2_201204-235001-utc.jpg\n",
      "3} vid_hive4_rpi2_201203-013001-utc.jpg\n",
      "4} vid_hive4_rpi2_201206-023001-utc.jpg\n",
      "5} vid_hive4_rpi2_201203-035001-utc.jpg\n",
      "6} vid_hive4_rpi2_201203-144001-utc.jpg\n",
      "7} vid_hive4_rpi2_201205-105001-utc.jpg\n",
      "8} vid_hive4_rpi2_201206-033001-utc.jpg\n",
      "9} vid_hive4_rpi2_201201-191001-utc.jpg\n",
      "10} vid_hive4_rpi2_201202-120001-utc.jpg\n",
      "11} vid_hive4_rpi2_201206-121001-utc.jpg\n",
      "12} vid_hive4_rpi2_201202-172001-utc.jpg\n",
      "13} vid_hive4_rpi2_201206-014001-utc.jpg\n",
      "14} vid_hive4_rpi2_201202-112001-utc.jpg\n",
      "15} vid_hive4_rpi2_201203-025001-utc.jpg\n",
      "16} vid_hive4_rpi2_201204-102001-utc.jpg\n",
      "17} vid_hive4_rpi2_201204-203001-utc.jpg\n",
      "18} vid_hive4_rpi2_201204-175001-utc.jpg\n",
      "19} vid_hive4_rpi2_201205-174001-utc.jpg\n",
      "20} vid_hive4_rpi2_201206-175001-utc.jpg\n",
      "21} vid_hive4_rpi2_201203-211001-utc.jpg\n",
      "22} vid_hive4_rpi2_201206-095001-utc.jpg\n",
      "23} vid_hive4_rpi2_201202-212001-utc.jpg\n",
      "24} vid_hive4_rpi2_201203-044001-utc.jpg\n",
      "25} vid_hive4_rpi2_201201-081001-utc.jpg\n",
      "26} vid_hive4_rpi2_201203-032001-utc.jpg\n",
      "27} vid_hive4_rpi2_201207-210001-utc.jpg\n",
      "28} vid_hive4_rpi2_201201-110001-utc.jpg\n",
      "29} vid_hive4_rpi2_201206-184001-utc.jpg\n",
      "30} vid_hive4_rpi2_201204-062001-utc.jpg\n",
      "31} vid_hive4_rpi2_201201-033001-utc.jpg\n",
      "32} vid_hive4_rpi2_201204-174001-utc.jpg\n",
      "33} vid_hive4_rpi2_201201-155001-utc.jpg\n",
      "34} vid_hive4_rpi2_201205-213001-utc.jpg\n",
      "35} vid_hive4_rpi2_201206-215001-utc.jpg\n",
      "36} vid_hive4_rpi2_201206-094001-utc.jpg\n",
      "37} vid_hive4_rpi2_201207-211001-utc.jpg\n",
      "38} vid_hive4_rpi2_201203-131001-utc.jpg\n",
      "39} vid_hive4_rpi2_201207-215001-utc.jpg\n",
      "40} vid_hive4_rpi2_201207-012001-utc.jpg\n",
      "41} vid_hive4_rpi2_201207-003001-utc.jpg\n",
      "42} vid_hive4_rpi2_201204-231001-utc.jpg\n",
      "43} vid_hive4_rpi2_201201-205001-utc.jpg\n",
      "44} vid_hive4_rpi2_201205-171001-utc.jpg\n",
      "45} vid_hive4_rpi2_201207-030001-utc.jpg\n",
      "46} vid_hive4_rpi2_201202-021001-utc.jpg\n",
      "47} vid_hive4_rpi2_201207-051001-utc.jpg\n",
      "48} vid_hive4_rpi2_201205-125001-utc.jpg\n",
      "49} vid_hive4_rpi2_201203-003001-utc.jpg\n",
      "50} vid_hive4_rpi2_201202-024001-utc.jpg\n",
      "\n",
      "\n",
      "$$$$$$$$$$$$$$$$$$$$$$$$$$$$$$$$$[ Files Moved Successfully ]$$$$$$$$$$$$$$$$$$$$$$$$$$$$$$$$$\n"
     ]
    }
   ],
   "source": [
    "# from https://stackoverflow.com/a/52586317\n",
    "\n",
    "import os, random, shutil\n",
    "\n",
    "#Prompting user to enter number of files to select randomly along with directory\n",
    "source = \"/Users/fabianprofeta/Desktop/PDS-IR-imaging/IR-imaging-2024/barmak/5_cluster_contour_ilastik/observation/imgs10\"\n",
    "dest = \"/Users/fabianprofeta/Desktop/PDS-IR-imaging/IR-imaging-2024/thresholding/imgs_samples\"\n",
    "no_of_files = 50\n",
    "\n",
    "print(\"%\"*25+\"{ Details Of Transfer }\"+\"%\"*25)\n",
    "print(\"\\n\\nList of Files Moved to %s :-\"%(dest))\n",
    "\n",
    "#Using for loop to randomly choose multiple files\n",
    "for i in range(no_of_files):\n",
    "    #Variable random_file stores the name of the random file chosen\n",
    "    random_file=random.choice(os.listdir(source))\n",
    "    print(\"%d} %s\"%(i+1,random_file))\n",
    "    source_file=source + \"/\" + random_file \n",
    "    dest_file=dest\n",
    "    #\"shutil.move\" function moves file from one directory to another\n",
    "    shutil.move(source_file,dest_file)\n",
    "    os.rename(dest_file+\"/\"+random_file, dest_file+\"/img\"+str(i)+\".jpg\")\n",
    "\n",
    "print(\"\\n\\n\"+\"$\"*33+\"[ Files Moved Successfully ]\"+\"$\"*33)"
   ]
  },
  {
   "cell_type": "markdown",
   "metadata": {},
   "source": [
    "# -----------------------------------------------------------------------------"
   ]
  },
  {
   "cell_type": "markdown",
   "metadata": {},
   "source": [
    "# We test here the pipeline on N random files"
   ]
  },
  {
   "cell_type": "code",
   "execution_count": 4,
   "metadata": {},
   "outputs": [],
   "source": [
    "import cv2\n",
    "import numpy as np\n",
    "import matplotlib.pyplot as plt\n",
    "from skimage.morphology import remove_small_holes, remove_small_objects, disk, opening, closing\n",
    "import glob\n",
    "import time"
   ]
  },
  {
   "cell_type": "code",
   "execution_count": 28,
   "metadata": {},
   "outputs": [],
   "source": [
    "folder_in = 'imgs_samples/'\n",
    "images = sorted(glob.glob(folder_in + '*.jpg'))\n",
    "imgs = []\n",
    "\n",
    "for image in images:\n",
    "    img = cv2.imread(image)\n",
    "    imgs.append(img)"
   ]
  },
  {
   "cell_type": "code",
   "execution_count": 24,
   "metadata": {},
   "outputs": [
    {
     "name": "stdout",
     "output_type": "stream",
     "text": [
      "Average time taken:  0.12 s\n"
     ]
    }
   ],
   "source": [
    "thresholds= np.ones([len(imgs)]) * 80\n",
    "imgs_tmp = []\n",
    "times = []\n",
    "\n",
    "for img, threshold in zip(imgs, thresholds):\n",
    "    start_time = time.time()\n",
    "    img_tmp = cv2.equalizeHist(cv2.cvtColor(img, cv2.COLOR_BGR2GRAY)) #histogram equalization\n",
    "    img_tmp = cv2.GaussianBlur(img, (7, 7), 0) #blur cause it never caused any harm\n",
    "    _, img_tmp = cv2.threshold(img_tmp, threshold, 255, cv2.THRESH_BINARY) #thresholding\n",
    "    imgs_tmp.append(img_tmp)\n",
    "    times.append(round(time.time() - start_time, 2))\n",
    "print('Average time taken: ', round(sum(times) / len(times), 2), 's')"
   ]
  },
  {
   "cell_type": "code",
   "execution_count": 23,
   "metadata": {},
   "outputs": [
    {
     "ename": "ZeroDivisionError",
     "evalue": "division by zero",
     "output_type": "error",
     "traceback": [
      "\u001b[0;31m---------------------------------------------------------------------------\u001b[0m",
      "\u001b[0;31mZeroDivisionError\u001b[0m                         Traceback (most recent call last)",
      "Cell \u001b[0;32mIn[23], line 15\u001b[0m\n\u001b[1;32m     13\u001b[0m     times\u001b[38;5;241m.\u001b[39mappend(\u001b[38;5;28mround\u001b[39m(time\u001b[38;5;241m.\u001b[39mtime() \u001b[38;5;241m-\u001b[39m start_time, \u001b[38;5;241m2\u001b[39m))\n\u001b[1;32m     14\u001b[0m     n \u001b[38;5;241m+\u001b[39m\u001b[38;5;241m=\u001b[39m \u001b[38;5;241m1\u001b[39m\n\u001b[0;32m---> 15\u001b[0m \u001b[38;5;28mprint\u001b[39m(\u001b[38;5;124m'\u001b[39m\u001b[38;5;124mAverage time taken: \u001b[39m\u001b[38;5;124m'\u001b[39m, \u001b[38;5;28mround\u001b[39m(\u001b[38;5;28;43msum\u001b[39;49m\u001b[43m(\u001b[49m\u001b[43mtimes\u001b[49m\u001b[43m)\u001b[49m\u001b[43m \u001b[49m\u001b[38;5;241;43m/\u001b[39;49m\u001b[43m \u001b[49m\u001b[38;5;28;43mlen\u001b[39;49m\u001b[43m(\u001b[49m\u001b[43mtimes\u001b[49m\u001b[43m)\u001b[49m, \u001b[38;5;241m2\u001b[39m), \u001b[38;5;124m'\u001b[39m\u001b[38;5;124ms\u001b[39m\u001b[38;5;124m'\u001b[39m)\n",
      "\u001b[0;31mZeroDivisionError\u001b[0m: division by zero"
     ]
    }
   ],
   "source": [
    "imgs_tmp1000_oc = []\n",
    "n = 0\n",
    "times = []\n",
    "for img_tmp in imgs_tmp:\n",
    "    start_time = time.time()\n",
    "    # some morphological operations (this take lil bit of time)\n",
    "    img_tmp1000 = remove_small_objects(img_tmp, min_size=1000); #remove small objects\n",
    "    img_tmp1000 = remove_small_holes(img_tmp1000, area_threshold=1000); #remove small holes\n",
    "    img_tmp1000_oc = closing(opening(img_tmp, disk(7)), disk(7)) #open then close the mask (small disk cause takes time)\n",
    "    imgs_tmp1000_oc.append(img_tmp1000_oc)\n",
    "    # to save time in the future, save the masks\n",
    "    cv2.imwrite('imgs_samples_mask/mask'+str(n)+'.jpg', img_tmp1000_oc * 255)\n",
    "    times.append(round(time.time() - start_time, 2))\n",
    "    n += 1\n",
    "print('Average time taken: ', round(sum(times) / len(times), 2), 's')"
   ]
  },
  {
   "cell_type": "code",
   "execution_count": 25,
   "metadata": {},
   "outputs": [],
   "source": [
    "# we load mask that were preprocessed to save time on morphological operations if we dont want to redo them\n",
    "masks = []\n",
    "no_of_file = 10\n",
    "for n in range(no_of_file):\n",
    "    mask = cv2.imread('imgs_samples_mask/mask'+str(n)+'.jpg', cv2.IMREAD_GRAYSCALE)\n",
    "    masks.append(mask)"
   ]
  },
  {
   "cell_type": "code",
   "execution_count": 29,
   "metadata": {},
   "outputs": [],
   "source": [
    "# now we can find the contours\n",
    "n = 0\n",
    "\n",
    "for mask, input_image in zip(masks, imgs):\n",
    "    img_contour = (mask).astype(np.uint8) #convert to uint8 because findContours only accepts uint8\n",
    "    contours, _ = cv2.findContours(img_contour, cv2.RETR_EXTERNAL, cv2.CHAIN_APPROX_SIMPLE) #find contours\n",
    "    contour = max(contours, key=cv2.contourArea) #get the biggest contour\n",
    "    img_contour = cv2.cvtColor(img_contour, cv2.COLOR_GRAY2BGR) #convert to BGR because drawContours only accepts BGR\n",
    "    cv2.drawContours(input_image, contour, -1, (255, 255, 255), 15) #draw the biggest contour\n",
    "\n",
    "    # find the centroid of the contour\n",
    "    M = cv2.moments(contour)\n",
    "    cX = int(M[\"m10\"] / M[\"m00\"])\n",
    "    cY = int(M[\"m01\"] / M[\"m00\"])\n",
    "    # plot it on the image\n",
    "    cv2.circle(input_image, (cX, cY), 20, (255, 0, 0), -1)\n",
    "    cv2.putText(input_image, \"centroid\", (cX - 60, cY - 60), cv2.FONT_HERSHEY_SIMPLEX, 2, (255, 0, 0), 4)\n",
    "    cv2.imwrite('imgs_samples_contour/contour' + str(n) + '.jpg', cv2.cvtColor(input_image, cv2.COLOR_BGR2RGB))\n",
    "    n += 1"
   ]
  },
  {
   "cell_type": "code",
   "execution_count": null,
   "metadata": {},
   "outputs": [],
   "source": []
  }
 ],
 "metadata": {
  "kernelspec": {
   "display_name": "bee",
   "language": "python",
   "name": "python3"
  },
  "language_info": {
   "codemirror_mode": {
    "name": "ipython",
    "version": 3
   },
   "file_extension": ".py",
   "mimetype": "text/x-python",
   "name": "python",
   "nbconvert_exporter": "python",
   "pygments_lexer": "ipython3",
   "version": "3.9.12"
  }
 },
 "nbformat": 4,
 "nbformat_minor": 2
}
