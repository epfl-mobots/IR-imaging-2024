{
 "cells": [
  {
   "cell_type": "code",
   "execution_count": 1,
   "metadata": {},
   "outputs": [],
   "source": [
    "import cv2\n",
    "import numpy as np\n",
    "from skimage.morphology import disk, opening, closing\n",
    "import glob\n",
    "import pathlib"
   ]
  },
  {
   "cell_type": "code",
   "execution_count": 2,
   "metadata": {},
   "outputs": [],
   "source": [
    "rpi = 'h2r4'\n",
    "\n",
    "# Read input image and resize them\n",
    "path_to_folder = '../live_bees/' + rpi + '/random_images_25/*.jpg'\n",
    "folder_in = sorted(glob.glob(path_to_folder))\n",
    "names = [pathlib.Path(x).stem for x in folder_in]\n",
    "imgs = [cv2.imread(x) for x in folder_in]\n",
    "folder_out = 'resized_images/' + rpi + '/'\n",
    "n = 0\n",
    "# resize images to be faster\n",
    "for img_path in folder_in:\n",
    "    cv2.imwrite(folder_out + str(names[n]) + '.jpg', cv2.resize(cv2.cvtColor(cv2.imread(img_path), cv2.COLOR_BGR2GRAY), (0,0), fx=0.5, fy=0.5));\n",
    "    n += 1\n",
    "\n",
    "resized_imgs = [cv2.imread(x) for x in sorted(glob.glob(folder_out + '*.jpg'))]\n",
    "\n",
    "output_folder = '../a_processed_images/region_growing/' + rpi + '/' "
   ]
  },
  {
   "cell_type": "code",
   "execution_count": 3,
   "metadata": {},
   "outputs": [],
   "source": [
    "def rgb2gray(bgr):\n",
    "    return np.dot(bgr[...,:3], [0.1140, 0.5870, 0.2989])\n",
    "\n",
    "def region_growing(image, seed_point, visited, mask, threshold, value_threshold, max_iterations=10000):\n",
    "    # Get image dimensions\n",
    "    rows, cols = image.shape[:2]\n",
    "    # Initialize queue for pixels to visit\n",
    "    queue = []\n",
    "    queue.append(seed_point)\n",
    "    iterations = 0\n",
    "    # Define 4-connectivity neighbors\n",
    "    neighbors = [(1, 0), (-1, 0), (0, 1), (0, -1)]\n",
    "\n",
    "    while queue: # and iterations < max_iterations:\n",
    "        iterations += 1\n",
    "        # Get current pixel from queue\n",
    "        current_point = queue.pop(0)\n",
    "        mask[current_point] = 1\n",
    "        visited[current_point] = 1\n",
    "\n",
    "        for neighbor in neighbors:\n",
    "            # Calculate neighbor coordinates\n",
    "            x_neighbor, y_neighbor = current_point[0] + neighbor[0], current_point[1] + neighbor[1]\n",
    "\n",
    "            # Check if neighbor is within image bounds\n",
    "            if 0 <= x_neighbor < rows and 0 <= y_neighbor < cols:\n",
    "                # Check if neighbor pixel is not visited\n",
    "                if visited[x_neighbor, y_neighbor] == 0: #and (rgb2gray(image[x_neighbor, y_neighbor]) < value_threshold):\n",
    "                    # Calculate gradient descent\n",
    "                    gradient = abs(int(rgb2gray(image[current_point])) - int(rgb2gray(image[x_neighbor, y_neighbor])))\n",
    "                    # Check if gradient is less than threshold\n",
    "                    if gradient <= threshold:\n",
    "                        queue.append((x_neighbor, y_neighbor))\n",
    "                        visited[x_neighbor, y_neighbor] = 1"
   ]
  },
  {
   "cell_type": "code",
   "execution_count": 10,
   "metadata": {},
   "outputs": [],
   "source": [
    "# Set threshold for region growing\n",
    "if rpi == 'h2r1': value_threshold, gradient_threshold = 50, 2\n",
    "if rpi == 'h2r2': value_threshold, gradient_threshold = 50, 1\n",
    "if rpi == 'h2r3': value_threshold, gradient_threshold = 45, 1\n",
    "if rpi == 'h2r4': value_threshold, gradient_threshold = 50, 1\n",
    "masks = []\n",
    "n = 0\n",
    "\n",
    "for input_image in resized_imgs:\n",
    "    rows, cols = input_image.shape[:2]\n",
    "    # Initialize visited matrix, taking only the first 2 dimensions of the input image\n",
    "    visited = np.zeros((input_image.shape[0], input_image.shape[1]))\n",
    "    mask = np.zeros((input_image.shape[0], input_image.shape[1]))\n",
    "    # Perform region growing\n",
    "    for x in range(rows):\n",
    "        for y in range(cols):\n",
    "            if (visited[x, y] == 0) and (rgb2gray(input_image[x, y]) < value_threshold):\n",
    "                region_growing(input_image, (x, y), visited, mask, gradient_threshold, value_threshold)\n",
    "    mask = closing(opening(mask, disk(3)), disk(3))\n",
    "    masks.append(mask)\n",
    "    cv2.imwrite(output_folder + names[n] + '_final_mask.jpg', mask * 255)\n",
    "    n += 1"
   ]
  }
 ],
 "metadata": {
  "kernelspec": {
   "display_name": "bee",
   "language": "python",
   "name": "python3"
  },
  "language_info": {
   "codemirror_mode": {
    "name": "ipython",
    "version": 3
   },
   "file_extension": ".py",
   "mimetype": "text/x-python",
   "name": "python",
   "nbconvert_exporter": "python",
   "pygments_lexer": "ipython3",
   "version": "3.9.-1"
  }
 },
 "nbformat": 4,
 "nbformat_minor": 2
}
