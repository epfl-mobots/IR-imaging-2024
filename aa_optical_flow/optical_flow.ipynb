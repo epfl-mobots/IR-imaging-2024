{
 "cells": [
  {
   "cell_type": "code",
   "execution_count": 1,
   "metadata": {},
   "outputs": [],
   "source": [
    "import cv2\n",
    "import numpy as np\n",
    "import matplotlib.pyplot as plt\n",
    "from skimage.morphology import disk, dilation\n",
    "import glob\n",
    "import pathlib"
   ]
  },
  {
   "cell_type": "code",
   "execution_count": 17,
   "metadata": {},
   "outputs": [],
   "source": [
    "rpi = 'h2r3'\n",
    "\n",
    "# Read input image \n",
    "path_to_folder = '../live_bees/' + rpi + '/random_images_of_50/*.jpg'\n",
    "folder_in = sorted(glob.glob(path_to_folder))\n",
    "names = [pathlib.Path(x).stem for x in folder_in]\n",
    "imgs = [cv2.imread(x) for x in folder_in]\n",
    "n = 0\n",
    "\n",
    "output_folder = '../a_processed_images/optical_flow/' + rpi + '/' "
   ]
  },
  {
   "cell_type": "code",
   "execution_count": 18,
   "metadata": {},
   "outputs": [
    {
     "name": "stdout",
     "output_type": "stream",
     "text": [
      "(1296, 2304)\n",
      "(1296, 2304)\n",
      "(1296, 2304)\n",
      "(1296, 2304)\n",
      "(1296, 2304)\n",
      "(1296, 2304)\n",
      "(1296, 2304)\n",
      "(1296, 2304)\n",
      "(1296, 2304)\n",
      "(1296, 2304)\n",
      "(1296, 2304)\n",
      "(1296, 2304)\n",
      "(1296, 2304)\n",
      "(1296, 2304)\n",
      "(1296, 2304)\n",
      "(1296, 2304)\n",
      "(1296, 2304)\n",
      "(1296, 2304)\n",
      "(1296, 2304)\n",
      "(1296, 2304)\n"
     ]
    }
   ],
   "source": [
    "masks = []\n",
    "n = 0\n",
    "for img in imgs:\n",
    "    if n % 2 == 0:\n",
    "        previous_gray = cv2.cvtColor(img, cv2.COLOR_BGR2GRAY)\n",
    "        # previous_gray = cv2.cvtColor(cv2.imread('../live_bees/h2r1/random_images_of_50/hive2_rpi1_240419-211101Z.jpg'), cv2.COLOR_BGR2GRAY)\n",
    "        n += 1\n",
    "        continue\n",
    "    mask = np.zeros_like(img)\n",
    "    mask[..., 1] = 255\n",
    "    gray = cv2.cvtColor(img, cv2.COLOR_BGR2GRAY)\n",
    "    # gray = cv2.cvtColor(cv2.imread('../live_bees/h2r1/random_images_of_50/hive2_rpi1_240419-211201Z.jpg'), cv2.COLOR_BGR2GRAY)\n",
    "    # Calculates dense optical flow by Farneback method \n",
    "    flow = cv2.calcOpticalFlowFarneback(previous_gray, gray, flow=None, \n",
    "                                        pyr_scale=0.5, # PyrScale=0.5 means a classical pyramid, where each next layer is twice smaller than the previous one. default 0.5.\n",
    "                                        levels=3,      # Number of pyramid layers including the initial image. Levels=1 means that no extra layers are created and only the original images are used. default 5.\n",
    "                                        winsize=15,    # Averaging window size. Larger values increase the algorithm robustness to image noise and give more chances for fast motion detection, but yield more blurred motion field. default 13.\n",
    "                                        iterations=3,  # Number of iterations the algorithm does at each pyramid level. default 10.\n",
    "                                        poly_n=5,      # Size of the pixel neighborhood used to find polynomial expansion in each pixel. Larger values mean that the image will be approximated with smoother surfaces, yielding more robust algorithm and more blurred motion field. Typically, PolyN is 5 or 7. default 5.\n",
    "                                        poly_sigma=1.2,# Standard deviation of the Gaussian that is used to smooth derivatives used as a basis for the polynomial expansion. For PolyN=5, you can set PolySigma = 1.1. For PolyN=7, a good value would be PolySigma = 1.5. default 1.1.\n",
    "                                        flags=0)\n",
    "        \n",
    "    # Computes the magnitude and angle of the 2D vectors \n",
    "    magnitude, angle = cv2.cartToPolar(flow[..., 0], flow[..., 1])   \n",
    "    # Sets image hue according to the optical flow  \n",
    "    # direction \n",
    "    mask[..., 0] = angle * 180 / np.pi / 2    \n",
    "    # Sets image value according to the optical flow \n",
    "    # magnitude (normalized) \n",
    "    mask[..., 2] = cv2.normalize(magnitude, None, 0, 255, cv2.NORM_MINMAX)\n",
    "    thresh_val = 7.5\n",
    "    _, thresholded_mask = cv2.threshold(magnitude, thresh_val, 255, cv2.THRESH_BINARY)\n",
    "    resized_mask = cv2.resize(thresholded_mask, (0, 0), fx=0.5, fy=0.5)\n",
    "    processed_mask = dilation(resized_mask, disk(15))\n",
    "    cv2.imwrite(output_folder + names[n-1] + '.jpg', processed_mask)\n",
    "    # fig, ax = plt.subplots(1, 3, figsize=(15, 15))\n",
    "    # ax[0].imshow(previous_gray, cmap='gray')\n",
    "    # ax[0].set_title(names[n-1])\n",
    "    # ax[1].imshow(thresholded_mask, cmap='gray')\n",
    "    # ax[1].set_title('Thresholded mask')\n",
    "    # ax[2].imshow(processed_mask, cmap='gray')\n",
    "    # ax[2].set_title('Processed mask')\n",
    "    # plt.show()\n",
    "    print(processed_mask.shape)\n",
    "    masks.append(thresholded_mask)\n",
    "    n += 1\n"
   ]
  },
  {
   "cell_type": "code",
   "execution_count": 21,
   "metadata": {},
   "outputs": [
    {
     "data": {
      "text/plain": [
       "True"
      ]
     },
     "execution_count": 21,
     "metadata": {},
     "output_type": "execute_result"
    }
   ],
   "source": []
  },
  {
   "cell_type": "code",
   "execution_count": null,
   "metadata": {},
   "outputs": [],
   "source": []
  }
 ],
 "metadata": {
  "kernelspec": {
   "display_name": "bee",
   "language": "python",
   "name": "python3"
  },
  "language_info": {
   "codemirror_mode": {
    "name": "ipython",
    "version": 3
   },
   "file_extension": ".py",
   "mimetype": "text/x-python",
   "name": "python",
   "nbconvert_exporter": "python",
   "pygments_lexer": "ipython3",
   "version": "3.9.12"
  }
 },
 "nbformat": 4,
 "nbformat_minor": 2
}
