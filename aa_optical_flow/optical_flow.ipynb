{
 "cells": [
  {
   "cell_type": "code",
   "execution_count": null,
   "metadata": {},
   "outputs": [],
   "source": [
    "import cv2\n",
    "import numpy as np\n",
    "import matplotlib.pyplot as plt\n",
    "from skimage.morphology import disk, opening, closing\n",
    "import glob\n",
    "import time\n",
    "import pathlib"
   ]
  },
  {
   "cell_type": "code",
   "execution_count": null,
   "metadata": {},
   "outputs": [],
   "source": [
    "rpi = 'h2r1'\n",
    "\n",
    "# Read input image and resize them\n",
    "path_to_folder = '../live_bees/' + rpi + '/random_images_of_50/*.jpg'\n",
    "names_folder = '../live_bees/' + rpi + '/random_images_25/*.jpg'\n",
    "folder_in = sorted(glob.glob(path_to_folder))\n",
    "names = [pathlib.Path(x).stem for x in names_folder]\n",
    "imgs = [cv2.imread(x) for x in folder_in]\n",
    "n = 0\n",
    "\n",
    "output_folder = '../a_processed_images/optical_flow/' + rpi + '/' "
   ]
  },
  {
   "cell_type": "code",
   "execution_count": null,
   "metadata": {},
   "outputs": [],
   "source": [
    "masks = []\n",
    "times = []\n",
    "frames = []\n",
    "n = 0\n",
    "for frame in frames:\n",
    "    if n == 0:\n",
    "        prev_gray = cv2.cvtColor(frame, cv2.COLOR_BGR2GRAY)\n",
    "        mask = np.zeros_like(frames[0])\n",
    "        mask[..., 1] = 255\n",
    "        n += 1\n",
    "        continue\n",
    "    fig, ax = plt.subplots(1, 3, figsize=(15, 15))\n",
    "    ax[0].imshow(frame)\n",
    "    gray = cv2.cvtColor(frame, cv2.COLOR_BGR2GRAY) \n",
    "        \n",
    "    # Calculates dense optical flow by Farneback method \n",
    "    flow = cv2.calcOpticalFlowFarneback(prev_gray, gray, flow=None, \n",
    "                                        pyr_scale=0.5, # PyrScale=0.5 means a classical pyramid, where each next layer is twice smaller than the previous one. default 0.5.\n",
    "                                        levels=3,      # Number of pyramid layers including the initial image. Levels=1 means that no extra layers are created and only the original images are used. default 5.\n",
    "                                        winsize=15,    # Averaging window size. Larger values increase the algorithm robustness to image noise and give more chances for fast motion detection, but yield more blurred motion field. default 13.\n",
    "                                        iterations=3,  # Number of iterations the algorithm does at each pyramid level. default 10.\n",
    "                                        poly_n=5,      # Size of the pixel neighborhood used to find polynomial expansion in each pixel. Larger values mean that the image will be approximated with smoother surfaces, yielding more robust algorithm and more blurred motion field. Typically, PolyN is 5 or 7. default 5.\n",
    "                                        poly_sigma=1.2,# Standard deviation of the Gaussian that is used to smooth derivatives used as a basis for the polynomial expansion. For PolyN=5, you can set PolySigma = 1.1. For PolyN=7, a good value would be PolySigma = 1.5. default 1.1.\n",
    "                                        flags=0)\n",
    "        \n",
    "    # Computes the magnitude and angle of the 2D vectors \n",
    "    magnitude, angle = cv2.cartToPolar(flow[..., 0], flow[..., 1]) \n",
    "        \n",
    "    # Sets image hue according to the optical flow  \n",
    "    # direction \n",
    "    mask[..., 0] = angle * 180 / np.pi / 2\n",
    "        \n",
    "    # Sets image value according to the optical flow \n",
    "    # magnitude (normalized) \n",
    "    mask[..., 2] = cv2.normalize(magnitude, None, 0, 255, cv2.NORM_MINMAX)\n",
    "\n",
    "    thresh_val = 7.5\n",
    "    _, thresholded_mask = cv2.threshold(magnitude, thresh_val, 255, cv2.THRESH_BINARY)\n",
    "    # thresholded_mask = mask[:,:,2]\n",
    "    # thresholded_mask = ~thresholded_mask\n",
    "\n",
    "    times.append(time.time() - start_time)\n",
    "    ax[1].imshow(cv2.cvtColor(mask, cv2.COLOR_HSV2RGB))\n",
    "    ax[2].imshow(thresholded_mask, cmap='gray')\n",
    "\n",
    "    masks.append(thresholded_mask)\n",
    "    plt.show()\n",
    "    prev_gray = gray\n",
    "    n += 1"
   ]
  }
 ],
 "metadata": {
  "kernelspec": {
   "display_name": "bee",
   "language": "python",
   "name": "python3"
  },
  "language_info": {
   "name": "python",
   "version": "3.9.12"
  }
 },
 "nbformat": 4,
 "nbformat_minor": 2
}
