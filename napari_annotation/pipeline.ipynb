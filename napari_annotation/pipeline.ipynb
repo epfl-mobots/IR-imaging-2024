{
 "cells": [
  {
   "cell_type": "markdown",
   "metadata": {},
   "source": [
    "# Notation Convention :\n",
    "## - Polygon: Considered as cluster\n",
    "## - Ellipse: No cluster on the image\n",
    "## - Rectangle: Foul image, to discard"
   ]
  },
  {
   "cell_type": "code",
   "execution_count": 2,
   "metadata": {},
   "outputs": [],
   "source": [
    "import os\n",
    "import napari\n",
    "import cv2\n",
    "import glob\n",
    "import pathlib\n",
    "import csv\n",
    "\n",
    "rpi = 'h2r4'\n",
    "\n",
    "path_to_folder = '../live_bees/' + rpi + '/random_images_25/*.jpg'\n",
    "folder = sorted(glob.glob(path_to_folder))\n",
    "names = [pathlib.Path(x).stem for x in folder]\n",
    "\n",
    "path_to_mask = '../live_bees/' + rpi + '/masks/*.csv'\n",
    "if os.path.exists('../live_bees/' + rpi + '/masks'):\n",
    "    masks = sorted(glob.glob(path_to_mask))\n",
    "    for mask in reversed(masks):\n",
    "        with open(mask, newline='') as csvfile:\n",
    "            reader = csv.DictReader(csvfile)\n",
    "            for row in reader:\n",
    "                if row['shape-type'] == ('polygon' or 'ellipse'):\n",
    "                    del folder[masks.index(mask)]\n",
    "                    del names[masks.index(mask)]\n",
    "                break"
   ]
  },
  {
   "cell_type": "code",
   "execution_count": 3,
   "metadata": {},
   "outputs": [
    {
     "name": "stdout",
     "output_type": "stream",
     "text": [
      "['hive2_rpi4_240420-191401Z', 'hive2_rpi4_240421-074701Z', 'hive2_rpi4_240422-064901Z', 'hive2_rpi4_240422-231601Z', 'hive2_rpi4_240423-133301Z', 'hive2_rpi4_240423-212701Z', 'hive2_rpi4_240423-224701Z', 'hive2_rpi4_240424-014501Z', 'hive2_rpi4_240424-071801Z', 'hive2_rpi4_240424-073601Z', 'hive2_rpi4_240424-080301Z', 'hive2_rpi4_240424-165701Z', 'hive2_rpi4_240425-112701Z', 'hive2_rpi4_240426-055801Z', 'hive2_rpi4_240426-161701Z', 'hive2_rpi4_240426-175601Z', 'hive2_rpi4_240427-004701Z', 'hive2_rpi4_240427-005901Z', 'hive2_rpi4_240427-023201Z', 'hive2_rpi4_240427-220701Z', 'hive2_rpi4_240428-111301Z', 'hive2_rpi4_240428-112501Z', 'hive2_rpi4_240428-162801Z', 'hive2_rpi4_240428-171401Z', 'hive2_rpi4_240429-101801Z']\n",
      "['../live_bees/h2r4/random_images_25/hive2_rpi4_240420-191401Z.jpg', '../live_bees/h2r4/random_images_25/hive2_rpi4_240421-074701Z.jpg', '../live_bees/h2r4/random_images_25/hive2_rpi4_240422-064901Z.jpg', '../live_bees/h2r4/random_images_25/hive2_rpi4_240422-231601Z.jpg', '../live_bees/h2r4/random_images_25/hive2_rpi4_240423-133301Z.jpg', '../live_bees/h2r4/random_images_25/hive2_rpi4_240423-212701Z.jpg', '../live_bees/h2r4/random_images_25/hive2_rpi4_240423-224701Z.jpg', '../live_bees/h2r4/random_images_25/hive2_rpi4_240424-014501Z.jpg', '../live_bees/h2r4/random_images_25/hive2_rpi4_240424-071801Z.jpg', '../live_bees/h2r4/random_images_25/hive2_rpi4_240424-073601Z.jpg', '../live_bees/h2r4/random_images_25/hive2_rpi4_240424-080301Z.jpg', '../live_bees/h2r4/random_images_25/hive2_rpi4_240424-165701Z.jpg', '../live_bees/h2r4/random_images_25/hive2_rpi4_240425-112701Z.jpg', '../live_bees/h2r4/random_images_25/hive2_rpi4_240426-055801Z.jpg', '../live_bees/h2r4/random_images_25/hive2_rpi4_240426-161701Z.jpg', '../live_bees/h2r4/random_images_25/hive2_rpi4_240426-175601Z.jpg', '../live_bees/h2r4/random_images_25/hive2_rpi4_240427-004701Z.jpg', '../live_bees/h2r4/random_images_25/hive2_rpi4_240427-005901Z.jpg', '../live_bees/h2r4/random_images_25/hive2_rpi4_240427-023201Z.jpg', '../live_bees/h2r4/random_images_25/hive2_rpi4_240427-220701Z.jpg', '../live_bees/h2r4/random_images_25/hive2_rpi4_240428-111301Z.jpg', '../live_bees/h2r4/random_images_25/hive2_rpi4_240428-112501Z.jpg', '../live_bees/h2r4/random_images_25/hive2_rpi4_240428-162801Z.jpg', '../live_bees/h2r4/random_images_25/hive2_rpi4_240428-171401Z.jpg', '../live_bees/h2r4/random_images_25/hive2_rpi4_240429-101801Z.jpg']\n"
     ]
    }
   ],
   "source": [
    "print(names)\n",
    "print(folder)"
   ]
  },
  {
   "cell_type": "code",
   "execution_count": 4,
   "metadata": {},
   "outputs": [],
   "source": [
    "%gui qt5\n",
    "viewer = napari.Viewer()\n",
    "for img, name in zip(folder, names):\n",
    "    image = cv2.imread(img)\n",
    "    viewer.add_image(image, name=name)\n",
    "    viewer.add_layer(napari.layers.Shapes(name=name+'_mask'))\n",
    "    # viewer.layers[name].visible = False\n",
    "    # viewer.layers[name+'_mask'].visible = False"
   ]
  },
  {
   "cell_type": "markdown",
   "metadata": {},
   "source": [
    "# Execute below cell once we are done with anotating all layers to save masks as .csv"
   ]
  },
  {
   "cell_type": "code",
   "execution_count": 4,
   "metadata": {},
   "outputs": [],
   "source": [
    "save_folder = '../live_bees/' + rpi + '/masks'\n",
    "os.makedirs(save_folder, exist_ok=True)\n",
    "for name in names:\n",
    "    # if name == 'hive2_rpi1_240427-124801Z' or name == 'hive2_rpi1_240428-211801Z':\n",
    "    #     continue\n",
    "    viewer.layers[name+'_mask'].save(save_folder+'/'+name+'_mask.csv')"
   ]
  },
  {
   "cell_type": "code",
   "execution_count": 5,
   "metadata": {},
   "outputs": [],
   "source": [
    "viewer.close()"
   ]
  },
  {
   "cell_type": "markdown",
   "metadata": {},
   "source": [
    "# -------------------------------------"
   ]
  },
  {
   "cell_type": "markdown",
   "metadata": {},
   "source": [
    "# Determining foul images"
   ]
  },
  {
   "cell_type": "code",
   "execution_count": 5,
   "metadata": {},
   "outputs": [
    {
     "name": "stdout",
     "output_type": "stream",
     "text": [
      "['hive2_rpi1_240421-021501Z', 'hive2_rpi1_240428-110401Z', 'hive2_rpi3_240427-193902Z', 'hive2_rpi3_240427-215502Z', 'hive2_rpi3_240427-230802Z', 'hive2_rpi3_240428-032002Z', 'hive2_rpi3_240428-193302Z', 'hive2_rpi4_240420-191401Z', 'hive2_rpi4_240421-074701Z', 'hive2_rpi4_240427-023201Z', 'hive2_rpi4_240427-220701Z']\n",
      "11\n"
     ]
    }
   ],
   "source": [
    "import glob\n",
    "import pathlib\n",
    "import csv\n",
    "\n",
    "rpis = ['h2r1', 'h2r2', 'h2r3', 'h2r4']\n",
    "foul_list = []\n",
    "\n",
    "for rpi in rpis:\n",
    "    path_to_folder = '../live_bees/' + rpi + '/random_images_25/*.jpg'\n",
    "    folder = sorted(glob.glob(path_to_folder))\n",
    "    names = [pathlib.Path(x).stem for x in folder]\n",
    "\n",
    "    path_to_mask = '../live_bees/' + rpi + '/masks/*.csv'\n",
    "    all_masks = sorted(glob.glob(path_to_mask))\n",
    "\n",
    "    for mask, name in zip(all_masks, names):\n",
    "        with open(mask, newline='') as csvfile:\n",
    "            reader = csv.DictReader(csvfile)\n",
    "            for row in reader:\n",
    "                if row['shape-type'] == 'rectangle':\n",
    "                        foul_list.append(name)\n",
    "                        break\n",
    "                \n",
    "print(foul_list)\n",
    "print(len(foul_list))"
   ]
  },
  {
   "cell_type": "code",
   "execution_count": null,
   "metadata": {},
   "outputs": [],
   "source": []
  }
 ],
 "metadata": {
  "kernelspec": {
   "display_name": "bee",
   "language": "python",
   "name": "python3"
  },
  "language_info": {
   "codemirror_mode": {
    "name": "ipython",
    "version": 3
   },
   "file_extension": ".py",
   "mimetype": "text/x-python",
   "name": "python",
   "nbconvert_exporter": "python",
   "pygments_lexer": "ipython3",
   "version": "3.9.12"
  }
 },
 "nbformat": 4,
 "nbformat_minor": 2
}
