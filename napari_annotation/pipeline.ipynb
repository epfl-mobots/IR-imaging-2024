{
 "cells": [
  {
   "cell_type": "code",
   "execution_count": 17,
   "metadata": {},
   "outputs": [],
   "source": [
    "import os\n",
    "import napari\n",
    "import cv2\n",
    "import matplotlib.pyplot as plt\n",
    "import glob\n",
    "import pathlib\n",
    "\n",
    "rpi = 'h2r1'\n",
    "\n",
    "path_to_folder = '../live_bees/' + rpi + '/random_images_25/*.jpg'\n",
    "folder = sorted(glob.glob(path_to_folder))\n",
    "names = [pathlib.Path(x).stem for x in folder]"
   ]
  },
  {
   "cell_type": "code",
   "execution_count": 15,
   "metadata": {},
   "outputs": [],
   "source": [
    "%gui qt5\n",
    "viewer = napari.Viewer()\n",
    "for img, name in zip(folder, names):\n",
    "    image = cv2.imread(img)\n",
    "    viewer.add_image(image, name=name)\n",
    "    viewer.add_layer(napari.layers.Shapes(name=name+'_mask'))\n",
    "    viewer.layers[name].visible = False\n",
    "    viewer.layers[name+'_mask'].visible = False"
   ]
  },
  {
   "cell_type": "markdown",
   "metadata": {},
   "source": [
    "# Execute below cell once we are done with anotating all layers to save masks as .csv"
   ]
  },
  {
   "cell_type": "code",
   "execution_count": 16,
   "metadata": {},
   "outputs": [],
   "source": [
    "save_folder = \"../live_bees/\" + rpi + \"/masks\"\n",
    "os.makedirs(save_folder, exist_ok=True)\n",
    "for name in names:\n",
    "    viewer.layers[name+'_mask'].save(save_folder+'/'+name+'_mask.csv')"
   ]
  }
 ],
 "metadata": {
  "kernelspec": {
   "display_name": "bee",
   "language": "python",
   "name": "python3"
  },
  "language_info": {
   "codemirror_mode": {
    "name": "ipython",
    "version": 3
   },
   "file_extension": ".py",
   "mimetype": "text/x-python",
   "name": "python",
   "nbconvert_exporter": "python",
   "pygments_lexer": "ipython3",
   "version": "3.9.12"
  }
 },
 "nbformat": 4,
 "nbformat_minor": 2
}
