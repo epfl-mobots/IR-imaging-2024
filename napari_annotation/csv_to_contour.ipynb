{
 "cells": [
  {
   "cell_type": "code",
   "execution_count": 2,
   "metadata": {},
   "outputs": [
    {
     "name": "stdout",
     "output_type": "stream",
     "text": [
      "21\n",
      "21\n"
     ]
    }
   ],
   "source": [
    "import glob\n",
    "import pathlib\n",
    "import pandas as pd\n",
    "import cv2\n",
    "import numpy as np\n",
    "\n",
    "rpi = 'h2r4'\n",
    "\n",
    "path_to_folder = '../live_bees/' + rpi + '/random_images_25/*.jpg'\n",
    "folder = sorted(glob.glob(path_to_folder))\n",
    "names = [pathlib.Path(x).stem for x in folder]\n",
    "\n",
    "path_to_mask = '../live_bees/' + rpi + '/masks/*.csv'\n",
    "masks = sorted(glob.glob(path_to_mask))\n",
    "\n",
    "dfs = []\n",
    "for mask in masks:\n",
    "    df = pd.read_csv(mask)\n",
    "    dfs.append(df)\n",
    "\n",
    "print(len(folder))\n",
    "print(len(masks))"
   ]
  },
  {
   "cell_type": "code",
   "execution_count": 3,
   "metadata": {},
   "outputs": [
    {
     "name": "stdout",
     "output_type": "stream",
     "text": [
      "21\n"
     ]
    }
   ],
   "source": [
    "x_max = 2592\n",
    "y_max = 4608\n",
    "imgs = []\n",
    "\n",
    "for df, file in zip(dfs, folder):\n",
    "    img = cv2.imread(file)\n",
    "    img = cv2.resize(img, (4608, 2592))\n",
    "    for nbr_of_clusters in df['index'].unique():\n",
    "        points = []\n",
    "        df_bis = df[df['index'] == nbr_of_clusters]\n",
    "        for x, y in zip(df_bis['axis-0'], df_bis['axis-1']):\n",
    "            if x < 0: x = 0\n",
    "            elif x > x_max: x = x_max\n",
    "            if y < 0: y = 0\n",
    "            elif y > y_max: y = y_max\n",
    "            points.append((int(y), int(x)))\n",
    "            cv2.circle(img, (int(y), int(x)), 20, (0, 255, 0), -1)\n",
    "        ctr = np.array(points).reshape((-1,1,2)).astype(np.int32)\n",
    "        cv2.drawContours(img, [ctr], -1, (255, 0, 0), 5)\n",
    "    imgs.append(img)\n",
    "\n",
    "print(len(imgs))"
   ]
  },
  {
   "cell_type": "code",
   "execution_count": 4,
   "metadata": {},
   "outputs": [],
   "source": [
    "# save all imgs \n",
    "save_folder  = '../annotated_images/' + rpi + '/'\n",
    "for i, img in enumerate(imgs):\n",
    "    cv2.imwrite(save_folder + names[i] + '.jpg', img)"
   ]
  },
  {
   "cell_type": "code",
   "execution_count": null,
   "metadata": {},
   "outputs": [],
   "source": []
  }
 ],
 "metadata": {
  "kernelspec": {
   "display_name": "bee",
   "language": "python",
   "name": "python3"
  },
  "language_info": {
   "codemirror_mode": {
    "name": "ipython",
    "version": 3
   },
   "file_extension": ".py",
   "mimetype": "text/x-python",
   "name": "python",
   "nbconvert_exporter": "python",
   "pygments_lexer": "ipython3",
   "version": "3.9.12"
  }
 },
 "nbformat": 4,
 "nbformat_minor": 2
}
