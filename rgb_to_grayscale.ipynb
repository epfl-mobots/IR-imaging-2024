{
 "cells": [
  {
   "cell_type": "markdown",
   "metadata": {},
   "source": [
    "# This notebook won't be needed if you already have the grayscale images"
   ]
  },
  {
   "cell_type": "code",
   "execution_count": 4,
   "metadata": {},
   "outputs": [
    {
     "name": "stdout",
     "output_type": "stream",
     "text": [
      "Saved hive2_rpi4_240422-231601Z.jpg\n",
      "Saved hive2_rpi4_240423-133301Z.jpg\n",
      "Saved hive2_rpi4_240423-212701Z.jpg\n",
      "Saved hive2_rpi4_240423-224701Z.jpg\n",
      "Saved hive2_rpi4_240424-014501Z.jpg\n",
      "Saved hive2_rpi4_240424-071801Z.jpg\n",
      "Saved hive2_rpi4_240424-073601Z.jpg\n",
      "Saved hive2_rpi4_240424-080301Z.jpg\n",
      "Saved hive2_rpi4_240424-165701Z.jpg\n",
      "Saved hive2_rpi4_240425-112701Z.jpg\n",
      "Saved hive2_rpi4_240426-055801Z.jpg\n",
      "Saved hive2_rpi4_240426-161701Z.jpg\n",
      "Saved hive2_rpi4_240426-175601Z.jpg\n",
      "Saved hive2_rpi4_240427-004701Z.jpg\n",
      "Saved hive2_rpi4_240427-005901Z.jpg\n",
      "Saved hive2_rpi4_240427-023201Z.jpg\n",
      "Saved hive2_rpi4_240428-111301Z.jpg\n",
      "Saved hive2_rpi4_240428-112501Z.jpg\n",
      "Saved hive2_rpi4_240428-162801Z.jpg\n",
      "Saved hive2_rpi4_240428-171401Z.jpg\n",
      "Saved hive2_rpi4_240429-101801Z.jpg\n"
     ]
    }
   ],
   "source": [
    "import glob\n",
    "import pathlib\n",
    "import cv2\n",
    "import numpy as np\n",
    "\n",
    "rpi = 'h2r4'\n",
    "\n",
    "path_to_folder = 'live_bees/' + rpi + ' color/random_images_25/*.jpg'\n",
    "folder = sorted(glob.glob(path_to_folder))\n",
    "names = [pathlib.Path(x).stem for x in folder]\n",
    "\n",
    "path_to_grayscale = 'live_bees/' + rpi + '/random_images_25'\n",
    "\n",
    "for i in range(len(folder)):\n",
    "    img = cv2.imread(folder[i])\n",
    "    gray = cv2.cvtColor(img, cv2.COLOR_BGR2GRAY)\n",
    "    cv2.imwrite(path_to_grayscale + '/' + names[i] + '.jpg', gray)\n",
    "    print('Saved ' + names[i] + '.jpg')"
   ]
  },
  {
   "cell_type": "code",
   "execution_count": null,
   "metadata": {},
   "outputs": [],
   "source": []
  }
 ],
 "metadata": {
  "kernelspec": {
   "display_name": "bee",
   "language": "python",
   "name": "python3"
  },
  "language_info": {
   "codemirror_mode": {
    "name": "ipython",
    "version": 3
   },
   "file_extension": ".py",
   "mimetype": "text/x-python",
   "name": "python",
   "nbconvert_exporter": "python",
   "pygments_lexer": "ipython3",
   "version": "3.9.-1"
  }
 },
 "nbformat": 4,
 "nbformat_minor": 2
}
