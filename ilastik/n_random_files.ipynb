{
 "cells": [
  {
   "cell_type": "code",
   "execution_count": 2,
   "metadata": {},
   "outputs": [],
   "source": [
    "import cv2\n",
    "import numpy as np\n",
    "import matplotlib.pyplot as plt\n",
    "from skimage.morphology import disk, opening, closing\n",
    "import glob\n",
    "import time\n",
    "import h5py"
   ]
  },
  {
   "cell_type": "code",
   "execution_count": 8,
   "metadata": {},
   "outputs": [],
   "source": [
    "# Read input image and resize them\n",
    "folder_in = 'imgs_samples/'\n",
    "folder_out = 'imgs_samples_resized/'\n",
    "images = sorted(glob.glob(folder_in + '*.jpg'))\n",
    "resized_imgs_path = sorted(glob.glob(folder_out + '*.jpg'))\n",
    "n = 0\n",
    "for img_path in images:\n",
    "    cv2.imwrite(folder_out + 'resized' + str(n) + '.jpg', cv2.resize(cv2.imread(img_path), (0,0), fx=0.5, fy=0.5));\n",
    "    n += 1"
   ]
  },
  {
   "cell_type": "code",
   "execution_count": 1,
   "metadata": {},
   "outputs": [
    {
     "ename": "NameError",
     "evalue": "name 'resized_imgs_path' is not defined",
     "output_type": "error",
     "traceback": [
      "\u001b[0;31m---------------------------------------------------------------------------\u001b[0m",
      "\u001b[0;31mNameError\u001b[0m                                 Traceback (most recent call last)",
      "Cell \u001b[0;32mIn[1], line 5\u001b[0m\n\u001b[1;32m      3\u001b[0m IMG \u001b[38;5;241m=\u001b[39m \u001b[38;5;124m'\u001b[39m\u001b[38;5;124m'\u001b[39m\n\u001b[1;32m      4\u001b[0m OUTPUT_FOLDER \u001b[38;5;241m=\u001b[39m \u001b[38;5;124m'\u001b[39m\u001b[38;5;124m./h5_files/\u001b[39m\u001b[38;5;132;01m{nickname}\u001b[39;00m\u001b[38;5;124m_mask.h5\u001b[39m\u001b[38;5;124m'\u001b[39m\n\u001b[0;32m----> 5\u001b[0m \u001b[38;5;28;01mfor\u001b[39;00m img_path \u001b[38;5;129;01min\u001b[39;00m \u001b[43mresized_imgs_path\u001b[49m:\n\u001b[1;32m      6\u001b[0m     IMG \u001b[38;5;241m+\u001b[39m\u001b[38;5;241m=\u001b[39m img_path \u001b[38;5;241m+\u001b[39m \u001b[38;5;124m'\u001b[39m\u001b[38;5;124m \u001b[39m\u001b[38;5;124m'\u001b[39m\n\u001b[1;32m      7\u001b[0m \u001b[38;5;66;03m# we call ilastik as headless operation on the pc\u001b[39;00m\n",
      "\u001b[0;31mNameError\u001b[0m: name 'resized_imgs_path' is not defined"
     ]
    }
   ],
   "source": [
    "ILASTIK_PATH = '/Users/fabianprofeta/Desktop/ilastik-1.4.0.post1-OSX.app/Contents/ilastik-release/run_ilastik.sh'\n",
    "MODEL='bees.ilp'\n",
    "IMG = ''\n",
    "OUTPUT_FOLDER = './imgs_samples_mask/{nickname}_mask.h5'\n",
    "for img_path in resized_imgs_path:\n",
    "    IMG += img_path + ' '\n",
    "# we call ilastik as headless operation on the pc\n",
    "!$ILASTIK_PATH  --headless \\\n",
    "                --project=$MODEL \\\n",
    "                --output_filename_format=$OUTPUT_FOLDER \\\n",
    "                $IMG"
   ]
  },
  {
   "cell_type": "code",
   "execution_count": 5,
   "metadata": {},
   "outputs": [
    {
     "name": "stdout",
     "output_type": "stream",
     "text": [
      "Average time taken:  2.98 s\n"
     ]
    }
   ],
   "source": [
    "# load the .h5 file and save them as png\n",
    "filenames = sorted(glob.glob('imgs_samples_mask/*.h5'))\n",
    "n = 0\n",
    "masks = []\n",
    "times = []\n",
    "for filename in filenames:\n",
    "    start_time = time.time()\n",
    "    with h5py.File(filename, \"r\") as f:\n",
    "        a_group_key = list(f.keys())[0]\n",
    "        data = list(f[a_group_key])\n",
    "        ds_arr = f[a_group_key][:,:,0]  # returns as a numpy array\n",
    "        cv2.imwrite('imgs_samples_mask/resized' + str(n) + '_mask.png', ds_arr)\n",
    "        masks.append(cv2.imread('imgs_samples_mask/resized' + str(n) + '_mask.png', cv2.IMREAD_GRAYSCALE))\n",
    "        n += 1\n",
    "print('Average time taken: ', round(np.mean(times), 2), 's')"
   ]
  },
  {
   "cell_type": "code",
   "execution_count": 6,
   "metadata": {},
   "outputs": [
    {
     "name": "stdout",
     "output_type": "stream",
     "text": [
      "Average time taken:  4.05 s\n"
     ]
    }
   ],
   "source": [
    "# morphological operations\n",
    "final_masks = []\n",
    "times = []\n",
    "for mask in masks:\n",
    "    start_time = time.time()\n",
    "    mask_open = opening(mask, disk(9))\n",
    "    mask_closed = closing(mask_open, disk(9))\n",
    "    final_masks.append(mask_closed)\n",
    "    times.append(round(time.time() - start_time, 2))\n",
    "print('Average time taken: ', round(np.mean(times), 2), 's')\n"
   ]
  },
  {
   "cell_type": "code",
   "execution_count": 22,
   "metadata": {},
   "outputs": [
    {
     "name": "stdout",
     "output_type": "stream",
     "text": [
      "((865.2841796875, 424.0394287109375), (842.6317138671875, 942.6292724609375), 88.46150207519531)\n",
      "((762.183837890625, 158.50216674804688), (884.5503540039062, 1316.9501953125), 25.577730178833008)\n",
      "((868.1810302734375, 410.31317138671875), (867.7225341796875, 906.8765258789062), 66.42987823486328)\n",
      "((775.7647705078125, 261.59405517578125), (855.0314331054688, 1160.782958984375), 31.697193145751953)\n",
      "((769.8652954101562, 220.76947021484375), (865.4181518554688, 1286.22119140625), 24.212339401245117)\n",
      "((744.3483276367188, 184.57211303710938), (855.3819580078125, 1269.8563232421875), 21.515071868896484)\n",
      "((760.0075073242188, 171.47825622558594), (851.43017578125, 1354.1614990234375), 25.833498001098633)\n",
      "((780.7593383789062, 301.1068115234375), (851.7034301757812, 1004.2666015625), 49.21540832519531)\n",
      "((821.33154296875, 354.46990966796875), (745.7223510742188, 1070.68115234375), 72.12784576416016)\n",
      "((732.0276489257812, 333.35626220703125), (839.2943115234375, 982.4647827148438), 55.346412658691406)\n",
      "Average time taken:  0.11 s\n"
     ]
    }
   ],
   "source": [
    "def elongation(m):\n",
    "    x = m['mu20'] + m['mu02']\n",
    "    y = 4 * m['mu11']**2 + (m['mu20'] - m['mu02'])**2\n",
    "    return (x + y**0.5) / (x - y**0.5)\n",
    "\n",
    "# now we can find the contours\n",
    "imgs_contour = []\n",
    "n = 0\n",
    "resized_imgs = []\n",
    "times = []\n",
    "for img_path in resized_imgs_path:\n",
    "    resized_imgs.append(cv2.imread(img_path))\n",
    "\n",
    "for mask, input_image in zip(final_masks, resized_imgs):\n",
    "    start_time = time.time()\n",
    "    img_contour = (mask).astype(np.uint8) #convert to uint8 because findContours only accepts uint8\n",
    "    contours, _ = cv2.findContours(img_contour, cv2.RETR_EXTERNAL, cv2.CHAIN_APPROX_SIMPLE) #find contours\n",
    "    contour = max(contours, key=cv2.contourArea) #get the biggest contour\n",
    "    img_contour = cv2.cvtColor(img_contour, cv2.COLOR_GRAY2BGR) #convert to BGR because drawContours only accepts BGR\n",
    "    cv2.drawContours(input_image, contour, -1, (255, 0, 0), 15) #draw the biggest contour\n",
    "\n",
    "    # find the centroid of the contour\n",
    "    M = cv2.moments(contour)\n",
    "    cX = int(M[\"m10\"] / M[\"m00\"])\n",
    "    cY = int(M[\"m01\"] / M[\"m00\"])\n",
    "    # print('Elongation of img' + str(n) + ': ', elongation(M))\n",
    "    # plot it on the image\n",
    "    cv2.circle(input_image, (cX, cY), 10, (255, 0, 0), -1)\n",
    "    cv2.putText(input_image, \"centroid\", (cX - 30, cY - 30), cv2.FONT_HERSHEY_SIMPLEX, 1, (255, 0, 0), 2)\n",
    "\n",
    "    ellipse = cv2.fitEllipse(contour)\n",
    "    cv2.ellipse(input_image, ellipse, color=(0,255,0), thickness=15)\n",
    "    print(ellipse)\n",
    "\n",
    "    # rect = cv2.minAreaRect(contour)\n",
    "    # box = cv2.boxPoints(rect)\n",
    "    # box = np.intp(box)\n",
    "    # cv2.drawContours(input_image, [box], 0, (0, 0, 255), 2)\n",
    "\n",
    "    cv2.imwrite('imgs_samples_contour/contour' + str(n) + '.jpg', cv2.cvtColor(input_image, cv2.COLOR_BGR2RGB))\n",
    "    times.append(round(time.time() - start_time, 2))\n",
    "    n += 1\n",
    "\n",
    "print('Average time taken: ', round(np.mean(times), 2), 's')"
   ]
  },
  {
   "cell_type": "code",
   "execution_count": null,
   "metadata": {},
   "outputs": [],
   "source": []
  }
 ],
 "metadata": {
  "kernelspec": {
   "display_name": "bee",
   "language": "python",
   "name": "python3"
  },
  "language_info": {
   "codemirror_mode": {
    "name": "ipython",
    "version": 3
   },
   "file_extension": ".py",
   "mimetype": "text/x-python",
   "name": "python",
   "nbconvert_exporter": "python",
   "pygments_lexer": "ipython3",
   "version": "3.9.12"
  }
 },
 "nbformat": 4,
 "nbformat_minor": 2
}
