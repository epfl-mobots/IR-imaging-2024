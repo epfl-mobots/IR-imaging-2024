{
 "cells": [
  {
   "cell_type": "code",
   "execution_count": 1,
   "metadata": {},
   "outputs": [],
   "source": [
    "import cv2\n",
    "from skimage.morphology import remove_small_holes, remove_small_objects, disk, opening, closing\n",
    "import glob\n",
    "import pathlib"
   ]
  },
  {
   "cell_type": "code",
   "execution_count": 2,
   "metadata": {},
   "outputs": [],
   "source": [
    "rpi = 'h2r4'\n",
    "\n",
    "path_to_folder = '../live_bees/' + rpi + '/random_images_25/*.jpg'\n",
    "folder_in = sorted(glob.glob(path_to_folder))\n",
    "names = [pathlib.Path(x).stem for x in folder_in]\n",
    "imgs = [cv2.imread(x) for x in folder_in]\n",
    "\n",
    "output_folder = '../a_processed_images/thresholding/' + rpi + '/' "
   ]
  },
  {
   "cell_type": "code",
   "execution_count": 6,
   "metadata": {},
   "outputs": [],
   "source": [
    "if rpi == 'h2r1': threshold = 60 #h2r1\n",
    "if rpi == 'h2r2': threshold = 100 #h2r2\n",
    "if rpi == 'h2r3': threshold = 60 #h2r3\n",
    "if rpi == 'h2r4': threshold = 50 #h2r4\n",
    "imgs_tmp = []\n",
    "for img in imgs:\n",
    "    img_tmp = cv2.equalizeHist(cv2.cvtColor(img, cv2.COLOR_BGR2GRAY)) #histogram equalization\n",
    "    img_tmp = cv2.GaussianBlur(img_tmp, (7, 7), 0) #blur cause it never caused any harm\n",
    "    _, img_tmp = cv2.threshold(img_tmp, threshold, 255, cv2.THRESH_BINARY) #thresholding\n",
    "    img_tmp = cv2.resize(img_tmp, (0, 0), fx=0.5, fy=0.5) \n",
    "    imgs_tmp.append(img_tmp)"
   ]
  },
  {
   "cell_type": "code",
   "execution_count": 5,
   "metadata": {},
   "outputs": [
    {
     "name": "stderr",
     "output_type": "stream",
     "text": [
      "/var/folders/81/88qz8hc518d6msz681nh39mm0000gn/T/ipykernel_66155/1109378710.py:7: UserWarning: Any labeled images will be returned as a boolean array. Did you mean to use a boolean array?\n",
      "  img_tmp1000_rem = remove_small_holes(img_tmp1000, area_threshold=1000); #remove small holes\n"
     ]
    }
   ],
   "source": [
    "imgs_tmp1000_oc = []\n",
    "times = []\n",
    "for img_tmp, name in zip(imgs_tmp, names):\n",
    "    # some morphological operations (this take lil bit of time)\n",
    "    img_tmp1000 = remove_small_objects(img_tmp, min_size=1000); #remove small objects\n",
    "    img_tmp1000_rem = remove_small_holes(img_tmp1000, area_threshold=1000); #remove small holes\n",
    "    img_tmp1000_oc = closing(opening(img_tmp1000_rem, disk(5)), disk(5)) #open then close the mask (small disk cause takes time)\n",
    "    imgs_tmp1000_oc.append(~img_tmp1000_oc)\n",
    "    # to save time in the future, save the masks\n",
    "    cv2.imwrite(output_folder + name + '.jpg', ~img_tmp1000_oc*255)"
   ]
  }
 ],
 "metadata": {
  "kernelspec": {
   "display_name": "bee",
   "language": "python",
   "name": "python3"
  },
  "language_info": {
   "codemirror_mode": {
    "name": "ipython",
    "version": 3
   },
   "file_extension": ".py",
   "mimetype": "text/x-python",
   "name": "python",
   "nbconvert_exporter": "python",
   "pygments_lexer": "ipython3",
   "version": "3.9.-1"
  }
 },
 "nbformat": 4,
 "nbformat_minor": 2
}
