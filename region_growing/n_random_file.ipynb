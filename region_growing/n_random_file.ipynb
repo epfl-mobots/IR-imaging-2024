{
 "cells": [
  {
   "cell_type": "code",
   "execution_count": 1,
   "metadata": {},
   "outputs": [],
   "source": [
    "import cv2\n",
    "import numpy as np\n",
    "import matplotlib.pyplot as plt\n",
    "from skimage.morphology import disk, opening, closing\n",
    "import glob\n",
    "import time"
   ]
  },
  {
   "cell_type": "code",
   "execution_count": 2,
   "metadata": {},
   "outputs": [],
   "source": [
    "def rgb2gray(bgr):\n",
    "    return np.dot(bgr[...,:3], [0.1140, 0.5870, 0.2989])\n",
    "\n",
    "def region_growing(image, seed_point, visited, mask, threshold, value_threshold, max_iterations=10000):\n",
    "    # Get image dimensions\n",
    "    rows, cols = image.shape[:2]\n",
    "    # Initialize queue for pixels to visit\n",
    "    queue = []\n",
    "    queue.append(seed_point)\n",
    "    iterations = 0\n",
    "\n",
    "    # Define 4-connectivity neighbors\n",
    "    neighbors = [(1, 0), (-1, 0), (0, 1), (0, -1)]\n",
    "\n",
    "    while queue: # and iterations < max_iterations:\n",
    "        iterations += 1\n",
    "        # Get current pixel from queue\n",
    "        current_point = queue.pop(0)\n",
    "        mask[current_point] = 1\n",
    "        visited[current_point] = 1\n",
    "\n",
    "        for neighbor in neighbors:\n",
    "            # Calculate neighbor coordinates\n",
    "            x_neighbor, y_neighbor = current_point[0] + neighbor[0], current_point[1] + neighbor[1]\n",
    "\n",
    "            # Check if neighbor is within image bounds\n",
    "            if 0 <= x_neighbor < rows and 0 <= y_neighbor < cols:\n",
    "                # Check if neighbor pixel is not visited\n",
    "                if visited[x_neighbor, y_neighbor] == 0: #and (rgb2gray(image[x_neighbor, y_neighbor]) < value_threshold):\n",
    "                    # Calculate gradient descent\n",
    "                    gradient = abs(int(rgb2gray(image[current_point])) - int(rgb2gray(image[x_neighbor, y_neighbor])))\n",
    "                    # Check if gradient is less than threshold\n",
    "                    if gradient <= threshold:\n",
    "                        queue.append((x_neighbor, y_neighbor))\n",
    "                        visited[x_neighbor, y_neighbor] = 1"
   ]
  },
  {
   "cell_type": "code",
   "execution_count": 3,
   "metadata": {},
   "outputs": [],
   "source": [
    "# Read input image\n",
    "folder_in = 'imgs_samples/'\n",
    "images = glob.glob(folder_in + '*.jpg')\n",
    "imgs = []\n",
    "for image in images:\n",
    "    img = cv2.resize(cv2.imread(image), (0, 0), fx=0.5, fy=0.5)\n",
    "    imgs.append(img)"
   ]
  },
  {
   "cell_type": "code",
   "execution_count": 4,
   "metadata": {},
   "outputs": [
    {
     "name": "stdout",
     "output_type": "stream",
     "text": [
      "Average time:  22.039098167419432 s\n"
     ]
    }
   ],
   "source": [
    "# Set threshold for region growing\n",
    "gradient_threshold = 2\n",
    "value_threshold = 80\n",
    "masks = []\n",
    "n = 0\n",
    "times = []\n",
    "\n",
    "for input_image in imgs:\n",
    "    time_start = time.time()\n",
    "    rows, cols = input_image.shape[:2]\n",
    "    # Initialize visited matrix, taking only the first 2 dimensions of the input image\n",
    "    visited = np.zeros((input_image.shape[0], input_image.shape[1]))\n",
    "    mask = np.zeros((input_image.shape[0], input_image.shape[1]))\n",
    "    # Initialize segmented image\n",
    "    segmented_image = input_image.copy()\n",
    "    # Perform region growing\n",
    "    for x in range(rows):\n",
    "        for y in range(cols):\n",
    "            if (visited[x, y] == 0) and (rgb2gray(input_image[x, y]) < value_threshold):\n",
    "                region_growing(input_image, (x, y), visited, mask, gradient_threshold, value_threshold)\n",
    "    mask = closing(opening(mask, disk(7)), disk(7))\n",
    "    masks.append(mask)\n",
    "    cv2.imwrite('imgs_samples_mask/mask'+str(n)+'.jpg', mask * 255)\n",
    "    times.append(time.time() - time_start)\n",
    "    n += 1\n",
    "print('Average time: ', sum(times) / len(times), 's')"
   ]
  },
  {
   "cell_type": "code",
   "execution_count": 5,
   "metadata": {},
   "outputs": [],
   "source": [
    "# load the masks\n",
    "masks = []\n",
    "no_of_file = 10\n",
    "for n in range(no_of_file):\n",
    "    mask = cv2.imread('imgs_samples_mask/mask'+str(n)+'.jpg', cv2.IMREAD_GRAYSCALE)\n",
    "    masks.append(mask)"
   ]
  },
  {
   "cell_type": "code",
   "execution_count": 6,
   "metadata": {},
   "outputs": [],
   "source": [
    "# now we can find the contours\n",
    "n = 0\n",
    "\n",
    "for mask, input_image in zip(masks, imgs):\n",
    "    img_contour = (mask).astype(np.uint8) #convert to uint8 because findContours only accepts uint8\n",
    "    contours, _ = cv2.findContours(img_contour, cv2.RETR_EXTERNAL, cv2.CHAIN_APPROX_SIMPLE) #find contours\n",
    "    contour = max(contours, key=cv2.contourArea) #get the biggest contour\n",
    "    img_contour = cv2.cvtColor(img_contour, cv2.COLOR_GRAY2BGR) #convert to BGR because drawContours only accepts BGR\n",
    "    cv2.drawContours(input_image, contour, -1, (255, 0, 0), 15) #draw the biggest contour\n",
    "\n",
    "    # find the centroid of the contour\n",
    "    M = cv2.moments(contour)\n",
    "    cX = int(M[\"m10\"] / M[\"m00\"])\n",
    "    cY = int(M[\"m01\"] / M[\"m00\"])\n",
    "    # plot it on the image\n",
    "    cv2.circle(input_image, (cX, cY), 10, (255, 0, 0), -1)\n",
    "    cv2.putText(input_image, \"centroid\", (cX - 30, cY - 30), cv2.FONT_HERSHEY_SIMPLEX, 1, (255, 0, 0), 2)\n",
    "    cv2.imwrite('imgs_samples_contour/contour' + str(n) + '.jpg', cv2.cvtColor(input_image, cv2.COLOR_BGR2RGB))\n",
    "    n += 1"
   ]
  },
  {
   "cell_type": "code",
   "execution_count": null,
   "metadata": {},
   "outputs": [],
   "source": []
  }
 ],
 "metadata": {
  "kernelspec": {
   "display_name": "bee",
   "language": "python",
   "name": "python3"
  },
  "language_info": {
   "codemirror_mode": {
    "name": "ipython",
    "version": 3
   },
   "file_extension": ".py",
   "mimetype": "text/x-python",
   "name": "python",
   "nbconvert_exporter": "python",
   "pygments_lexer": "ipython3",
   "version": "3.9.12"
  }
 },
 "nbformat": 4,
 "nbformat_minor": 2
}
