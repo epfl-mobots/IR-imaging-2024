{
 "cells": [
  {
   "cell_type": "code",
   "execution_count": 1,
   "metadata": {},
   "outputs": [],
   "source": [
    "import cv2\n",
    "import numpy as np\n",
    "import matplotlib.pyplot as plt\n",
    "import glob\n",
    "import pathlib"
   ]
  },
  {
   "cell_type": "code",
   "execution_count": 2,
   "metadata": {},
   "outputs": [
    {
     "name": "stdout",
     "output_type": "stream",
     "text": [
      "['hive2_rpi4_240422-231601Z', 'hive2_rpi4_240423-133301Z', 'hive2_rpi4_240423-212701Z', 'hive2_rpi4_240423-224701Z', 'hive2_rpi4_240424-014501Z', 'hive2_rpi4_240424-071801Z', 'hive2_rpi4_240424-073601Z', 'hive2_rpi4_240424-080301Z', 'hive2_rpi4_240424-165701Z', 'hive2_rpi4_240425-112701Z', 'hive2_rpi4_240426-055801Z', 'hive2_rpi4_240426-161701Z', 'hive2_rpi4_240426-175601Z', 'hive2_rpi4_240427-004701Z', 'hive2_rpi4_240427-005901Z', 'hive2_rpi4_240427-023201Z', 'hive2_rpi4_240428-111301Z', 'hive2_rpi4_240428-112501Z', 'hive2_rpi4_240428-162801Z', 'hive2_rpi4_240428-171401Z', 'hive2_rpi4_240429-101801Z']\n"
     ]
    }
   ],
   "source": [
    "method = 'region_growing'\n",
    "rpi = 'h2r4'\n",
    "format = 'jpg'\n",
    "if method == 'ilastik': format = 'bmp'\n",
    "\n",
    "path_to_processed = sorted(glob.glob('a_processed_images/'+ method + '/' + rpi + '/*.' + format))\n",
    "path_to_original = sorted(glob.glob('annotated_masks/' + rpi + '/*.jpg'))\n",
    "names = [pathlib.Path(x).stem for x in path_to_original]\n",
    "\n",
    "path_to_final_mask = 'a_found_masks/' + method + '/' + rpi + '/'"
   ]
  },
  {
   "cell_type": "code",
   "execution_count": 3,
   "metadata": {},
   "outputs": [],
   "source": [
    "processed_imgs = [cv2.imread(x, cv2.IMREAD_GRAYSCALE) for x in path_to_processed]\n",
    "n = 0\n",
    "\n",
    "for mask in processed_imgs:\n",
    "    final_mask = np.ones_like(mask)*255\n",
    "    if method == 'ilastik':\n",
    "        mask = cv2.threshold(mask, 1.5, 255, cv2.THRESH_BINARY)[1]\n",
    "        mask = ~mask\n",
    "    img_contour = (mask).astype(np.uint8) #convert to uint8 because findContours only accepts uint8\n",
    "    contours, _ = cv2.findContours(img_contour, cv2.RETR_EXTERNAL, cv2.CHAIN_APPROX_SIMPLE) #find contours\n",
    "    contours = [x for x in contours if cv2.contourArea(x) > 120000]\n",
    "    contours = sorted(contours, key=cv2.contourArea, reverse=True)[:2] #get the 2 biggest contour\n",
    "    # final_mask = cv2.cvtColor(final_mask, cv2.COLOR_GRAY2BGR) #convert to BGR because drawContours only accepts BGR\n",
    "    cv2.drawContours(final_mask, contours, -1, (0, 0, 0), -1) #draw the biggest contour\n",
    "    # cv2.drawContours(final_mask, contours, -1, (255, 0, 255), 3) #draw the biggest contour\n",
    "    # for contour in contours:\n",
    "    #     M = cv2.moments(contour)\n",
    "    #     cX = int(M[\"m10\"] / M[\"m00\"])\n",
    "    #     cY = int(M[\"m01\"] / M[\"m00\"])\n",
    "    #     cv2.circle(final_mask, (cX, cY), 10, (255, 255, 0), -1)\n",
    "    #     cv2.putText(final_mask, \"centroid\", (cX, cY - 30), cv2.FONT_HERSHEY_SIMPLEX, 2, (255, 255, 0), 4)\n",
    "    #     cv2.putText(final_mask, str(cv2.contourArea(contour)), (cX - 100, cY + 60), cv2.FONT_HERSHEY_SIMPLEX, 2, (255, 255, 0), 2)\n",
    "    cv2.imwrite(path_to_final_mask + names[n] + '_final_mask.jpg', ~final_mask)\n",
    "    n += 1\n",
    "\n",
    "\n",
    "    ### THE COMMENTED LINES ARE FOR THE PLOTTING OF THE CONTOUR, THE CENTROID AND THE AREA OF THE CONTOUR\n",
    "    ### IF YOU WANT TO DO THE XOR ACCURACY, YOU NEED TO KEEP THEM COMMENTED\n",
    "    ### IF YOU WANT TO ACTUALLY HAVE THE CONTOUR, CENTROID AND AREA PLOTTED, YOU NEED TO UNCOMMENT THEM"
   ]
  }
 ],
 "metadata": {
  "kernelspec": {
   "display_name": "bee",
   "language": "python",
   "name": "python3"
  },
  "language_info": {
   "codemirror_mode": {
    "name": "ipython",
    "version": 3
   },
   "file_extension": ".py",
   "mimetype": "text/x-python",
   "name": "python",
   "nbconvert_exporter": "python",
   "pygments_lexer": "ipython3",
   "version": "3.9.-1"
  }
 },
 "nbformat": 4,
 "nbformat_minor": 2
}
